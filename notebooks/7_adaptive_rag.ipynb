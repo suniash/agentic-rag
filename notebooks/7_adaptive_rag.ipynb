{
  "cells": [
    {
      "cell_type": "markdown",
      "metadata": {},
      "source": [
        "# Notebook 7 \u00b7 Adaptive Routing and Cost Control\n",
        "\n",
        "Adaptive RAG activates only the components necessary for a request. We will measure the cost impact of routing short factual questions to a cheaper model and using the full agent stack only for analytical prompts."
      ]
    },
    {
      "cell_type": "code",
      "metadata": {},
      "execution_count": null,
      "source": [
        "from typing import Any, Dict\n",
        "\n",
        "from langchain_openai import ChatOpenAI as LangChainChatOpenAI\n",
        "\n",
        "from pprint import pprint\n",
        "\n",
        "from shared import (\n",
        "    DEFAULT_MODEL,\n",
        "    RetrievalContext,\n",
        "    build_baseline_chain,\n",
        "    build_retrieval_context,\n",
        "    pretty_print_json,\n",
        "    time_execution,\n",
        ")\n"
      ],
      "outputs": []
    },
    {
      "cell_type": "code",
      "metadata": {},
      "execution_count": null,
      "source": [
        "light_model = LangChainChatOpenAI(model='gpt-4.1-mini', temperature=0.0)\n",
        "rich_model = LangChainChatOpenAI(model='gpt-4.1', temperature=0.0)\n",
        "context = build_retrieval_context(top_k=3)\n",
        "qa_chain = build_baseline_chain(context.retriever)\n"
      ],
      "outputs": []
    },
    {
      "cell_type": "code",
      "metadata": {},
      "execution_count": null,
      "source": [
        "def adaptive_answer(question: str) -> Dict[str, Any]:\n",
        "    if len(question.split()) < 12:\n",
        "        llm = light_model\n",
        "        mode = 'lightweight'\n",
        "    else:\n",
        "        llm = rich_model\n",
        "        mode = 'full'\n",
        "    llm_response = llm.predict(question)\n",
        "    retrieval_augmented = qa_chain.run(question)\n",
        "    return {'mode': mode, 'llm_response': llm_response, 'retrieval_augmented': retrieval_augmented}\n",
        "\n",
        "adaptive_answer('List the steps to invite a contractor to a workspace.')\n"
      ],
      "outputs": []
    },
    {
      "cell_type": "markdown",
      "metadata": {},
      "source": [
        "## Suggested experiments\n",
        "\n",
        "* Swap the routing heuristic for a classifier fine-tuned on historical queries.\n",
        "* Track token usage (e.g. via LangChain callbacks) to quantify savings.\n",
        "* Combine with the verified RAG notebook to enforce grounding in the full mode."
      ]
    }
  ],
  "metadata": {
    "kernelspec": {
      "display_name": "Python 3",
      "language": "python",
      "name": "python3"
    },
    "language_info": {
      "name": "python",
      "version": "3.11"
    }
  },
  "nbformat": 4,
  "nbformat_minor": 5
}
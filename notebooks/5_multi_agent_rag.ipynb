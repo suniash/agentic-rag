{
  "cells": [
    {
      "cell_type": "markdown",
      "metadata": {},
      "source": [
        "# Notebook 5 \u00b7 Multi-Agent Routing\n",
        "\n",
        "Many real deployments maintain multiple retrieval corpora. This notebook illustrates how to route a query between specialised retrievers before synthesising the final answer."
      ]
    },
    {
      "cell_type": "code",
      "metadata": {},
      "execution_count": null,
      "source": [
        "from typing import Dict\n",
        "\n",
        "from langchain.agents import Tool, initialize_agent\n",
        "from langchain.schema import BaseRetriever\n",
        "from langchain_openai import ChatOpenAI as LangChainChatOpenAI\n",
        "\n",
        "from pprint import pprint\n",
        "\n",
        "from shared import (\n",
        "    DEFAULT_MODEL,\n",
        "    RetrievalContext,\n",
        "    build_baseline_chain,\n",
        "    build_retrieval_context,\n",
        "    pretty_print_json,\n",
        "    time_execution,\n",
        ")\n"
      ],
      "outputs": []
    },
    {
      "cell_type": "code",
      "metadata": {},
      "execution_count": null,
      "source": [
        "context = build_retrieval_context(top_k=4)\n",
        "secondary_context = build_retrieval_context(top_k=2)\n",
        "\n",
        "retriever_map: Dict[str, BaseRetriever] = {\n",
        "    'support': context.retriever,\n",
        "    'product': secondary_context.retriever,\n",
        "}\n",
        "\n",
        "def route_query(query: str) -> str:\n",
        "    if 'price' in query.lower() or 'billing' in query.lower():\n",
        "        return 'support'\n",
        "    return 'product'\n"
      ],
      "outputs": []
    },
    {
      "cell_type": "code",
      "metadata": {},
      "execution_count": null,
      "source": [
        "def make_tool(name: str, retriever: BaseRetriever) -> Tool:\n",
        "    def _search(q: str) -> str:\n",
        "        docs = retriever.get_relevant_documents(q)\n",
        "        return '\\n\\n'.join(doc.page_content for doc in docs) or 'No results.'\n",
        "\n",
        "    return Tool(name=name, func=_search, description=f'Query the {name} knowledge base.')\n",
        "\n",
        "router_tools = [make_tool(name, retriever) for name, retriever in retriever_map.items()]\n",
        "policy_llm = LangChainChatOpenAI(model=DEFAULT_MODEL, temperature=0.1)\n",
        "agent = initialize_agent(router_tools, policy_llm, agent='openai-functions')\n"
      ],
      "outputs": []
    },
    {
      "cell_type": "code",
      "metadata": {},
      "execution_count": null,
      "source": [
        "def answer(query: str) -> str:\n",
        "    destination = route_query(query)\n",
        "    print(f'Routing to: {destination}')\n",
        "    response = agent.invoke({'input': query})\n",
        "    return response['output']\n",
        "\n",
        "print(answer('Outline the billing differences between Team and Enterprise tiers.'))\n"
      ],
      "outputs": []
    },
    {
      "cell_type": "markdown",
      "metadata": {},
      "source": [
        "## Discussion\n",
        "\n",
        "The simple keyword policy here is intentionally naive. Replace it with a classifier LLM call or a rules engine (e.g. spaCy, Hugging Face text classifier) to achieve more nuanced routing."
      ]
    }
  ],
  "metadata": {
    "kernelspec": {
      "display_name": "Python 3",
      "language": "python",
      "name": "python3"
    },
    "language_info": {
      "name": "python",
      "version": "3.11"
    }
  },
  "nbformat": 4,
  "nbformat_minor": 5
}